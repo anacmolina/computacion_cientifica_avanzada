{
 "cells": [
  {
   "cell_type": "markdown",
   "metadata": {},
   "source": [
    "## Tarea 2\n",
    "- Usar anomalies python package\n",
    "- Implementar multiprocessing para calcular las soluciones"
   ]
  },
  {
   "cell_type": "code",
   "execution_count": 1,
   "metadata": {},
   "outputs": [],
   "source": [
    "import numpy as np\n",
    "\n",
    "import multiprocessing as multiprocessing\n",
    "\n",
    "from anomalies import anomaly\n",
    "from vector_like import vectorlike_generator"
   ]
  },
  {
   "cell_type": "code",
   "execution_count": 2,
   "metadata": {},
   "outputs": [],
   "source": [
    "def compute_anomaly_free_set(n):\n",
    "    \n",
    "    l, k = vectorlike_generator(n)\n",
    "    \n",
    "    set = anomaly.free(l, k)\n",
    "    #print(set)\n",
    "    gcd = anomaly.free.gcd\n",
    "    \n",
    "    if gcd==0:\n",
    "        set_simplified = set\n",
    "    else:\n",
    "        set_simplified = anomaly.free.simplified\n",
    "        \n",
    "    results = {\n",
    "        'l': l,\n",
    "        'k': k,\n",
    "        'set': set,\n",
    "        'gcd': gcd,\n",
    "        'set_simplified': set_simplified\n",
    "    }\n",
    "    \n",
    "    return set_simplified#results\n"
   ]
  },
  {
   "cell_type": "code",
   "execution_count": 3,
   "metadata": {},
   "outputs": [
    {
     "data": {
      "text/plain": [
       "array([ 2, -2,  3, -3,  3, -3])"
      ]
     },
     "execution_count": 3,
     "metadata": {},
     "output_type": "execute_result"
    }
   ],
   "source": [
    "a = compute_anomaly_free_set(6)\n",
    "a"
   ]
  },
  {
   "cell_type": "code",
   "execution_count": 4,
   "metadata": {},
   "outputs": [
    {
     "name": "stderr",
     "output_type": "stream",
     "text": [
      "/home/ana/anaconda3/envs/comp_avanz/lib/python3.9/site-packages/anomalies/anomaly.py:49: RuntimeWarning: invalid value encountered in divide\n",
      "  self.simplified=(zz/self.gcd).astype(int)\n",
      "/home/ana/anaconda3/envs/comp_avanz/lib/python3.9/site-packages/anomalies/anomaly.py:49: RuntimeWarning: invalid value encountered in divide\n",
      "  self.simplified=(zz/self.gcd).astype(int)\n",
      "/home/ana/anaconda3/envs/comp_avanz/lib/python3.9/site-packages/anomalies/anomaly.py:49: RuntimeWarning: invalid value encountered in divide\n",
      "  self.simplified=(zz/self.gcd).astype(int)\n",
      "/home/ana/anaconda3/envs/comp_avanz/lib/python3.9/site-packages/anomalies/anomaly.py:49: RuntimeWarning: invalid value encountered in divide\n",
      "  self.simplified=(zz/self.gcd).astype(int)\n",
      "/home/ana/anaconda3/envs/comp_avanz/lib/python3.9/site-packages/anomalies/anomaly.py:49: RuntimeWarning: invalid value encountered in divide\n",
      "  self.simplified=(zz/self.gcd).astype(int)\n",
      "/home/ana/anaconda3/envs/comp_avanz/lib/python3.9/site-packages/anomalies/anomaly.py:49: RuntimeWarning: invalid value encountered in divide\n",
      "  self.simplified=(zz/self.gcd).astype(int)\n",
      "/home/ana/anaconda3/envs/comp_avanz/lib/python3.9/site-packages/anomalies/anomaly.py:49: RuntimeWarning: invalid value encountered in divide\n",
      "  self.simplified=(zz/self.gcd).astype(int)\n",
      "/home/ana/anaconda3/envs/comp_avanz/lib/python3.9/site-packages/anomalies/anomaly.py:49: RuntimeWarning: invalid value encountered in divide\n",
      "  self.simplified=(zz/self.gcd).astype(int)\n",
      "/home/ana/anaconda3/envs/comp_avanz/lib/python3.9/site-packages/anomalies/anomaly.py:49: RuntimeWarning: invalid value encountered in divide\n",
      "  self.simplified=(zz/self.gcd).astype(int)\n"
     ]
    }
   ],
   "source": [
    "with multiprocessing.Pool(9) as p:\n",
    "    info = p.map(compute_anomaly_free_set, [6]*1000)"
   ]
  },
  {
   "cell_type": "code",
   "execution_count": 5,
   "metadata": {},
   "outputs": [],
   "source": [
    "sets = np.unique(np.vstack(info), axis=0)"
   ]
  },
  {
   "cell_type": "code",
   "execution_count": 6,
   "metadata": {},
   "outputs": [],
   "source": [
    "sets = sets[np.all(sets!=0, axis=1)]\n",
    "#sets"
   ]
  },
  {
   "cell_type": "code",
   "execution_count": 7,
   "metadata": {},
   "outputs": [],
   "source": [
    "def repeated_values(array):\n",
    "    \n",
    "    pos = array[array>0]\n",
    "    neg = array[array<0]\n",
    "\n",
    "    #print(pos, neg, np.any(pos==np.abs(neg).any()))\n",
    "    \n",
    "    if np.all(pos==np.abs(neg)):\n",
    "        return False\n",
    "\n",
    "    elif np.any(pos==np.abs(neg).any()): \n",
    "        return False\n",
    "    \n",
    "    else:\n",
    "        return True"
   ]
  },
  {
   "cell_type": "code",
   "execution_count": 8,
   "metadata": {},
   "outputs": [],
   "source": [
    "#repeated_values(sets[1])"
   ]
  },
  {
   "cell_type": "code",
   "execution_count": 9,
   "metadata": {},
   "outputs": [],
   "source": [
    "#np.any(np.array([2, 2, 3])==np.abs([-2, -2, -3]).any())\n",
    "#np.array([2, 2, 3])==np.abs([-2, -2, -3]).any()"
   ]
  },
  {
   "cell_type": "code",
   "execution_count": 10,
   "metadata": {},
   "outputs": [
    {
     "name": "stderr",
     "output_type": "stream",
     "text": [
      "/tmp/ipykernel_17598/3721449450.py:8: DeprecationWarning: elementwise comparison failed; this will raise an error in the future.\n",
      "  if np.all(pos==np.abs(neg)):\n",
      "/tmp/ipykernel_17598/3721449450.py:8: DeprecationWarning: elementwise comparison failed; this will raise an error in the future.\n",
      "  if np.all(pos==np.abs(neg)):\n",
      "/tmp/ipykernel_17598/3721449450.py:8: DeprecationWarning: elementwise comparison failed; this will raise an error in the future.\n",
      "  if np.all(pos==np.abs(neg)):\n",
      "/tmp/ipykernel_17598/3721449450.py:8: DeprecationWarning: elementwise comparison failed; this will raise an error in the future.\n",
      "  if np.all(pos==np.abs(neg)):\n",
      "/tmp/ipykernel_17598/3721449450.py:8: DeprecationWarning: elementwise comparison failed; this will raise an error in the future.\n",
      "  if np.all(pos==np.abs(neg)):\n",
      "/tmp/ipykernel_17598/3721449450.py:8: DeprecationWarning: elementwise comparison failed; this will raise an error in the future.\n",
      "  if np.all(pos==np.abs(neg)):\n"
     ]
    }
   ],
   "source": [
    "with multiprocessing.Pool(6) as p:\n",
    "    remove = p.map(repeated_values, sets)"
   ]
  },
  {
   "cell_type": "code",
   "execution_count": 11,
   "metadata": {},
   "outputs": [
    {
     "data": {
      "text/plain": [
       "array([[-108,  113,  132, -147, -147,  157],\n",
       "       [ -43,   48,   72,  -87,  -87,   97],\n",
       "       [ -37,   39,   71,  -74, -113,  114],\n",
       "       [ -37,   40,   53,  -62,  -62,   68],\n",
       "       [ -33,   38,   47,  -57,  -62,   67],\n",
       "       [ -27,   29,   55,  -58,  -89,   90],\n",
       "       [ -11,   14,   16,  -21,  -24,   26],\n",
       "       [  -7,   10,   11,  -15,  -21,   22],\n",
       "       [  -5,  -11,  -33,   60,   68,  -79],\n",
       "       [  -4,    5,   11,  -14,  -14,   16],\n",
       "       [  -2,    3,   51,  -53,  -73,   74],\n",
       "       [  -2,    4,    5,   -8,  -10,   11],\n",
       "       [  -1,   -3,   -5,   11,   13,  -15],\n",
       "       [  -1,   -2,   -5,   10,   11,  -13],\n",
       "       [  -1,    2,    3,   -5,   -5,    6],\n",
       "       [  -1,    3,    7,  -10,  -14,   15],\n",
       "       [  -1,   11,   19,  -37,  -38,   46],\n",
       "       [   2,   -4,   -5,    8,   10,  -11],\n",
       "       [   2,   -3,  -10,   13,   13,  -15],\n",
       "       [   2,   -3,   -8,   10,   12,  -13],\n",
       "       [   2,    3,    6,  -13,  -17,   19],\n",
       "       [   3,  -11,  -13,   23,   37,  -39],\n",
       "       [   3,   13,   26,  -48,  -68,   74],\n",
       "       [   5,  -24,  -31,   55,   88,  -93],\n",
       "       [   5,   -6,   -8,   10,   11,  -12],\n",
       "       [   6,  -31,  -33,   62,  118, -122],\n",
       "       [   6,  -11,  -14,   21,   29,  -31],\n",
       "       [   7,  -10,  -11,   15,   21,  -22],\n",
       "       [  18,  -35,  -70,   99,  122, -134],\n",
       "       [  24,  -26,  -34,   39,   41,  -44],\n",
       "       [  59,  -69,  -74,   89,  106, -111],\n",
       "       [  72,  -82,  -82,   97,  108, -113]])"
      ]
     },
     "execution_count": 11,
     "metadata": {},
     "output_type": "execute_result"
    }
   ],
   "source": [
    "sets = sets[remove]\n",
    "sets"
   ]
  },
  {
   "cell_type": "code",
   "execution_count": 13,
   "metadata": {},
   "outputs": [],
   "source": [
    "\"\"\"\n",
    "\n",
    "from concurrent.futures import thread\n",
    "from threading import Thread\n",
    "\n",
    "NUM_THREADS = 6\n",
    "\n",
    "for i in range(NUM_THREADS):\n",
    "\n",
    "    thread = Thread(target=compute_anomaly_free_set, args=(6,))\n",
    "    thread.start()\n",
    "    thread.join()\n",
    "\n",
    "\"\"\";"
   ]
  },
  {
   "cell_type": "code",
   "execution_count": null,
   "metadata": {},
   "outputs": [],
   "source": []
  }
 ],
 "metadata": {
  "kernelspec": {
   "display_name": "Python 3.9.12 ('comp_avanz')",
   "language": "python",
   "name": "python3"
  },
  "language_info": {
   "codemirror_mode": {
    "name": "ipython",
    "version": 3
   },
   "file_extension": ".py",
   "mimetype": "text/x-python",
   "name": "python",
   "nbconvert_exporter": "python",
   "pygments_lexer": "ipython3",
   "version": "3.9.12"
  },
  "orig_nbformat": 4,
  "vscode": {
   "interpreter": {
    "hash": "add0685a1965005be9be0975996da26f37d5472cceef27ccf55a2f3f6645711f"
   }
  }
 },
 "nbformat": 4,
 "nbformat_minor": 2
}
