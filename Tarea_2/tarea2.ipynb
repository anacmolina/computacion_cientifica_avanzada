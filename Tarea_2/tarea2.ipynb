{
 "cells": [
  {
   "cell_type": "markdown",
   "metadata": {},
   "source": [
    "## Tarea 2\n",
    "- Usar anomalies python package\n",
    "- Implementar multiprocessing para calcular las soluciones"
   ]
  },
  {
   "cell_type": "code",
   "execution_count": 94,
   "metadata": {},
   "outputs": [],
   "source": [
    "import numpy as np\n",
    "\n",
    "import multiprocessing as multiprocessing\n",
    "\n",
    "from anomalies import anomaly\n",
    "from vector_like import vectorlike_generator"
   ]
  },
  {
   "cell_type": "code",
   "execution_count": 95,
   "metadata": {},
   "outputs": [],
   "source": [
    "from operator import mul\n",
    "\n",
    "\n",
    "def compute_anomaly_free_set(n):\n",
    "    \n",
    "    l, k = vectorlike_generator(n)\n",
    "    \n",
    "    set = anomaly.free(l, k)\n",
    "    #print(set)\n",
    "    gcd = anomaly.free.gcd\n",
    "    \n",
    "    if gcd==0:\n",
    "        set_simplified = set\n",
    "    else:\n",
    "        set_simplified = anomaly.free.simplified\n",
    "        \n",
    "    results = {\n",
    "        'l': l,\n",
    "        'k': k,\n",
    "        'set': set,\n",
    "        'gcd': gcd,\n",
    "        'set_simplified': set_simplified\n",
    "    }\n",
    "    \n",
    "    return set_simplified#results\n"
   ]
  },
  {
   "cell_type": "code",
   "execution_count": 96,
   "metadata": {},
   "outputs": [
    {
     "data": {
      "text/plain": [
       "array([  2,   3,   6, -13, -17,  19])"
      ]
     },
     "execution_count": 96,
     "metadata": {},
     "output_type": "execute_result"
    }
   ],
   "source": [
    "a = compute_anomaly_free_set(6)\n",
    "a"
   ]
  },
  {
   "cell_type": "code",
   "execution_count": 97,
   "metadata": {},
   "outputs": [
    {
     "name": "stderr",
     "output_type": "stream",
     "text": [
      "/home/ana/anaconda3/envs/comp_avanz/lib/python3.9/site-packages/anomalies/anomaly.py:49: RuntimeWarning: invalid value encountered in divide\n",
      "  self.simplified=(zz/self.gcd).astype(int)\n",
      "/home/ana/anaconda3/envs/comp_avanz/lib/python3.9/site-packages/anomalies/anomaly.py:49: RuntimeWarning: invalid value encountered in divide\n",
      "  self.simplified=(zz/self.gcd).astype(int)\n",
      "/home/ana/anaconda3/envs/comp_avanz/lib/python3.9/site-packages/anomalies/anomaly.py:49: RuntimeWarning: invalid value encountered in divide\n",
      "  self.simplified=(zz/self.gcd).astype(int)\n",
      "/home/ana/anaconda3/envs/comp_avanz/lib/python3.9/site-packages/anomalies/anomaly.py:49: RuntimeWarning: invalid value encountered in divide\n",
      "  self.simplified=(zz/self.gcd).astype(int)\n",
      "/home/ana/anaconda3/envs/comp_avanz/lib/python3.9/site-packages/anomalies/anomaly.py:49: RuntimeWarning: invalid value encountered in divide\n",
      "  self.simplified=(zz/self.gcd).astype(int)\n",
      "/home/ana/anaconda3/envs/comp_avanz/lib/python3.9/site-packages/anomalies/anomaly.py:49: RuntimeWarning: invalid value encountered in divide\n",
      "  self.simplified=(zz/self.gcd).astype(int)\n",
      "/home/ana/anaconda3/envs/comp_avanz/lib/python3.9/site-packages/anomalies/anomaly.py:49: RuntimeWarning: invalid value encountered in divide\n",
      "  self.simplified=(zz/self.gcd).astype(int)\n",
      "/home/ana/anaconda3/envs/comp_avanz/lib/python3.9/site-packages/anomalies/anomaly.py:49: RuntimeWarning: invalid value encountered in divide\n",
      "  self.simplified=(zz/self.gcd).astype(int)\n",
      "/home/ana/anaconda3/envs/comp_avanz/lib/python3.9/site-packages/anomalies/anomaly.py:49: RuntimeWarning: invalid value encountered in divide\n",
      "  self.simplified=(zz/self.gcd).astype(int)\n"
     ]
    }
   ],
   "source": [
    "with multiprocessing.Pool(9) as p:\n",
    "    info = p.map(compute_anomaly_free_set, [6]*1000)"
   ]
  },
  {
   "cell_type": "code",
   "execution_count": 98,
   "metadata": {},
   "outputs": [],
   "source": [
    "sets = np.unique(np.vstack(info), axis=0)"
   ]
  },
  {
   "cell_type": "code",
   "execution_count": 99,
   "metadata": {},
   "outputs": [],
   "source": [
    "sets = sets[np.all(sets!=0, axis=1)]\n",
    "#sets"
   ]
  },
  {
   "cell_type": "code",
   "execution_count": 100,
   "metadata": {},
   "outputs": [],
   "source": [
    "def repeated_values(array):\n",
    "    \n",
    "    pos = array[array>0]\n",
    "    neg = array[array<0]\n",
    "\n",
    "    #print(pos, neg, np.any(pos==np.abs(neg).any()))\n",
    "    \n",
    "    if np.all(pos==np.abs(neg)):\n",
    "        return False\n",
    "\n",
    "    elif np.any(pos==np.abs(neg).any()): \n",
    "        return False\n",
    "    \n",
    "    else:\n",
    "        return True"
   ]
  },
  {
   "cell_type": "code",
   "execution_count": 101,
   "metadata": {},
   "outputs": [],
   "source": [
    "#repeated_values(sets[1])"
   ]
  },
  {
   "cell_type": "code",
   "execution_count": 102,
   "metadata": {},
   "outputs": [],
   "source": [
    "#np.any(np.array([2, 2, 3])==np.abs([-2, -2, -3]).any())\n",
    "#np.array([2, 2, 3])==np.abs([-2, -2, -3]).any()"
   ]
  },
  {
   "cell_type": "code",
   "execution_count": 103,
   "metadata": {},
   "outputs": [
    {
     "name": "stderr",
     "output_type": "stream",
     "text": [
      "/tmp/ipykernel_13188/3721449450.py:8: DeprecationWarning: elementwise comparison failed; this will raise an error in the future.\n",
      "  if np.all(pos==np.abs(neg)):\n",
      "/tmp/ipykernel_13188/3721449450.py:8: DeprecationWarning: elementwise comparison failed; this will raise an error in the future.\n",
      "  if np.all(pos==np.abs(neg)):\n",
      "/tmp/ipykernel_13188/3721449450.py:8: DeprecationWarning: elementwise comparison failed; this will raise an error in the future.\n",
      "  if np.all(pos==np.abs(neg)):\n",
      "/tmp/ipykernel_13188/3721449450.py:8: DeprecationWarning: elementwise comparison failed; this will raise an error in the future.\n",
      "  if np.all(pos==np.abs(neg)):\n",
      "/tmp/ipykernel_13188/3721449450.py:8: DeprecationWarning: elementwise comparison failed; this will raise an error in the future.\n",
      "  if np.all(pos==np.abs(neg)):\n",
      "/tmp/ipykernel_13188/3721449450.py:8: DeprecationWarning: elementwise comparison failed; this will raise an error in the future.\n",
      "  if np.all(pos==np.abs(neg)):\n"
     ]
    }
   ],
   "source": [
    "with multiprocessing.Pool(9) as p:\n",
    "    remove = p.map(repeated_values, sets)"
   ]
  },
  {
   "cell_type": "code",
   "execution_count": 104,
   "metadata": {},
   "outputs": [
    {
     "data": {
      "text/plain": [
       "array([[ -27,   29,   55,  -58,  -89,   90],\n",
       "       [ -24,   26,   43,  -46,  -68,   69],\n",
       "       [ -17,  -22,  -22,   72,   97, -108],\n",
       "       [ -14,   21,   24,  -37,  -38,   44],\n",
       "       [ -13,   15,   24,  -27,  -39,   40],\n",
       "       [ -11,   16,   17,  -24,  -31,   33],\n",
       "       [  -9,   11,   16,  -21,  -21,   24],\n",
       "       [  -7,   10,   11,  -15,  -21,   22],\n",
       "       [  -6,   29,   33,  -58, -149,  151],\n",
       "       [  -3,   -5,   -7,   19,   21,  -25],\n",
       "       [  -3,   -4,   -6,   16,   19,  -22],\n",
       "       [  -2,    3,   10,  -13,  -13,   15],\n",
       "       [  -2,    3,   51,  -53,  -73,   74],\n",
       "       [  -1,   -5,   -7,   15,   21,  -23],\n",
       "       [  -1,   -3,   -5,   11,   13,  -15],\n",
       "       [  -1,   -2,   -5,   10,   11,  -13],\n",
       "       [  -1,    2,    3,   -5,   -5,    6],\n",
       "       [  -1,    3,    7,  -10,  -14,   15],\n",
       "       [  -1,    3,   11,  -14,  -21,   22],\n",
       "       [  -1,    4,    4,   -9,   -9,   11],\n",
       "       [   2,    3,    6,  -13,  -17,   19],\n",
       "       [   3,  -17,  -17,   33,   65,  -67],\n",
       "       [   5,  -24,  -31,   55,   88,  -93],\n",
       "       [   5,   -6,   -8,   10,   11,  -12],\n",
       "       [   7,  -10,  -11,   15,   21,  -22],\n",
       "       [  17,  -34,  -36,   63,   70,  -80],\n",
       "       [  27,  -38,  -38,   53,   68,  -72],\n",
       "       [  59,  -69,  -74,   89,  106, -111],\n",
       "       [  72,  -82,  -82,   97,  108, -113]])"
      ]
     },
     "execution_count": 104,
     "metadata": {},
     "output_type": "execute_result"
    }
   ],
   "source": [
    "sets = sets[remove]\n",
    "sets"
   ]
  },
  {
   "cell_type": "code",
   "execution_count": 105,
   "metadata": {},
   "outputs": [
    {
     "data": {
      "text/plain": [
       "'\\n\\nfrom concurrent.futures import thread\\nfrom threading import Thread\\n\\nNUM_THREADS = 6\\n\\nfor i in range(NUM_THREADS):\\n\\n    thread = Thread(target=compute_anomaly_free_set, args=(6,))\\n    thread.start()\\n    thread.join()\\n\\n'"
      ]
     },
     "execution_count": 105,
     "metadata": {},
     "output_type": "execute_result"
    }
   ],
   "source": [
    "\"\"\"\n",
    "\n",
    "from concurrent.futures import thread\n",
    "from threading import Thread\n",
    "\n",
    "NUM_THREADS = 6\n",
    "\n",
    "for i in range(NUM_THREADS):\n",
    "\n",
    "    thread = Thread(target=compute_anomaly_free_set, args=(6,))\n",
    "    thread.start()\n",
    "    thread.join()\n",
    "\n",
    "\"\"\""
   ]
  }
 ],
 "metadata": {
  "kernelspec": {
   "display_name": "Python 3.9.12 ('comp_avanz')",
   "language": "python",
   "name": "python3"
  },
  "language_info": {
   "codemirror_mode": {
    "name": "ipython",
    "version": 3
   },
   "file_extension": ".py",
   "mimetype": "text/x-python",
   "name": "python",
   "nbconvert_exporter": "python",
   "pygments_lexer": "ipython3",
   "version": "3.9.12"
  },
  "orig_nbformat": 4,
  "vscode": {
   "interpreter": {
    "hash": "add0685a1965005be9be0975996da26f37d5472cceef27ccf55a2f3f6645711f"
   }
  }
 },
 "nbformat": 4,
 "nbformat_minor": 2
}
