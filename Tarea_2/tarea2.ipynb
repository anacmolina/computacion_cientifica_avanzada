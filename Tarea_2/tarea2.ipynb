{
 "cells": [
  {
   "cell_type": "markdown",
   "metadata": {},
   "source": [
    "## Tarea 2\n",
    "- Usar anomalies python package\n",
    "- Implementar multiprocessing para calcular las soluciones"
   ]
  },
  {
   "cell_type": "code",
   "execution_count": 1,
   "metadata": {},
   "outputs": [],
   "source": [
    "import numpy as np\n",
    "\n",
    "import multiprocessing as multiprocessing\n",
    "\n",
    "from anomalies import anomaly\n",
    "from vector_like import vectorlike_generator"
   ]
  },
  {
   "cell_type": "code",
   "execution_count": 2,
   "metadata": {},
   "outputs": [],
   "source": [
    "from operator import mul\n",
    "\n",
    "\n",
    "def compute_anomaly_free_set(n):\n",
    "    \n",
    "    l, k = vectorlike_generator(n)\n",
    "    \n",
    "    set = anomaly.free(l, k)\n",
    "    gcd = anomaly.free.gcd\n",
    "    set_simplified = anomaly.free.simplified\n",
    "        \n",
    "    results = {\n",
    "        'l': l,\n",
    "        'k': k,\n",
    "        'set': set,\n",
    "        'gcd': gcd,\n",
    "        'set_simplified': set_simplified\n",
    "    }\n",
    "    \n",
    "    return set_simplified#results"
   ]
  },
  {
   "cell_type": "code",
   "execution_count": 3,
   "metadata": {},
   "outputs": [
    {
     "data": {
      "text/plain": [
       "array([-1,  4,  4, -9, -9, 11])"
      ]
     },
     "execution_count": 3,
     "metadata": {},
     "output_type": "execute_result"
    }
   ],
   "source": [
    "a = compute_anomaly_free_set(6)\n",
    "a"
   ]
  },
  {
   "cell_type": "code",
   "execution_count": 4,
   "metadata": {},
   "outputs": [],
   "source": [
    "with multiprocessing.Pool(1) as p:\n",
    "    info = p.map(compute_anomaly_free_set, [6]*10)"
   ]
  },
  {
   "cell_type": "code",
   "execution_count": 5,
   "metadata": {},
   "outputs": [
    {
     "data": {
      "text/plain": [
       "array([[ -2,   3,  10, -13, -13,  15],\n",
       "       [ -2,   3,  51, -53, -73,  74],\n",
       "       [ -1,  -1,   1,   1,   1,  -1],\n",
       "       [ -1,   1,  -1,   1,  -2,   2],\n",
       "       [ -1,   1,   2,  -2,  -3,   3],\n",
       "       [ -1,   2,   3,  -5,  -5,   6],\n",
       "       [  0,   0,   1,  -1,  -3,   3],\n",
       "       [  1,  -1,   2,  -2,   3,  -3],\n",
       "       [  2,  -2,  -3,   3,  17, -17],\n",
       "       [  3,  -3,  -3,   3,   7,  -7]])"
      ]
     },
     "execution_count": 5,
     "metadata": {},
     "output_type": "execute_result"
    }
   ],
   "source": [
    "np.unique(np.vstack(info), axis=0)"
   ]
  },
  {
   "cell_type": "code",
   "execution_count": 19,
   "metadata": {},
   "outputs": [],
   "source": [
    "import threading"
   ]
  },
  {
   "cell_type": "code",
   "execution_count": null,
   "metadata": {},
   "outputs": [],
   "source": []
  }
 ],
 "metadata": {
  "kernelspec": {
   "display_name": "Python 3.9.12 ('comp_avanz')",
   "language": "python",
   "name": "python3"
  },
  "language_info": {
   "codemirror_mode": {
    "name": "ipython",
    "version": 3
   },
   "file_extension": ".py",
   "mimetype": "text/x-python",
   "name": "python",
   "nbconvert_exporter": "python",
   "pygments_lexer": "ipython3",
   "version": "3.9.12"
  },
  "orig_nbformat": 4,
  "vscode": {
   "interpreter": {
    "hash": "add0685a1965005be9be0975996da26f37d5472cceef27ccf55a2f3f6645711f"
   }
  }
 },
 "nbformat": 4,
 "nbformat_minor": 2
}
