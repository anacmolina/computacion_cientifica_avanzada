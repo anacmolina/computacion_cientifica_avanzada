{
 "cells": [
  {
   "cell_type": "markdown",
   "metadata": {},
   "source": [
    "## Tarea 2\n",
    "- Usar anomalies python package\n",
    "- Implementar multiprocessing para calcular las soluciones"
   ]
  },
  {
   "cell_type": "code",
   "execution_count": 34,
   "metadata": {},
   "outputs": [],
   "source": [
    "import numpy as np\n",
    "\n",
    "import multiprocessing as multiprocessing\n",
    "\n",
    "from anomalies import anomaly\n",
    "from vector_like import vectorlike_generator"
   ]
  },
  {
   "cell_type": "code",
   "execution_count": 35,
   "metadata": {},
   "outputs": [],
   "source": [
    "from operator import mul\n",
    "\n",
    "\n",
    "def compute_anomaly_free_set(data):\n",
    "    \n",
    "    l, k = vectorlike_generator(data[0], data[1])\n",
    "    \n",
    "    set = anomaly.free(l, k)\n",
    "    gcd = anomaly.free.gcd\n",
    "    set_simplified = anomaly.free.simplified\n",
    "        \n",
    "    results = {\n",
    "        'l': l,\n",
    "        'k': k,\n",
    "        'set': set,\n",
    "        'gcd': gcd,\n",
    "        'set_simplified': set_simplified\n",
    "    }\n",
    "    \n",
    "    return set_simplified#results"
   ]
  },
  {
   "cell_type": "code",
   "execution_count": 36,
   "metadata": {},
   "outputs": [],
   "source": [
    "a = compute_anomaly_free_set([6, 4])"
   ]
  },
  {
   "cell_type": "code",
   "execution_count": 40,
   "metadata": {},
   "outputs": [
    {
     "data": {
      "text/plain": [
       "array([[ 6.,  3.],\n",
       "       [ 6.,  4.],\n",
       "       [ 6.,  5.],\n",
       "       [ 6.,  6.],\n",
       "       [ 6.,  7.],\n",
       "       [ 6.,  8.],\n",
       "       [ 6.,  9.],\n",
       "       [ 6., 10.],\n",
       "       [ 6., 11.]])"
      ]
     },
     "execution_count": 40,
     "metadata": {},
     "output_type": "execute_result"
    }
   ],
   "source": [
    "z = 6\n",
    "vals = np.arange(3, 12, 1)\n",
    "LK = np.vstack([np.ones(vals.shape)*z, vals]).T\n",
    "\n",
    "LK"
   ]
  },
  {
   "cell_type": "code",
   "execution_count": 41,
   "metadata": {},
   "outputs": [],
   "source": [
    "with multiprocessing.Pool(1) as p:\n",
    "    info = p.map(compute_anomaly_free_set, LK)"
   ]
  },
  {
   "cell_type": "code",
   "execution_count": 42,
   "metadata": {},
   "outputs": [
    {
     "data": {
      "text/plain": [
       "[array([-1, -1,  1,  1,  1, -1]),\n",
       " array([ -1,   4,   8, -14, -14,  17]),\n",
       " array([  1,   2,   5, -10, -11,  13]),\n",
       " array([  6, -14, -15,  29,  29, -35]),\n",
       " array([ -2,  -4,  -6,  15,  17, -20]),\n",
       " array([ -5,  19,  20, -39, -52,  57]),\n",
       " array([ -77,  119,  141, -213, -235,  265]),\n",
       " array([  3,  -5, -12,  17,  17, -20]),\n",
       " array([-1089,  1175,  1583, -1773, -1970,  2074])]"
      ]
     },
     "execution_count": 42,
     "metadata": {},
     "output_type": "execute_result"
    }
   ],
   "source": [
    "info"
   ]
  },
  {
   "cell_type": "code",
   "execution_count": null,
   "metadata": {},
   "outputs": [],
   "source": []
  }
 ],
 "metadata": {
  "kernelspec": {
   "display_name": "Python 3.9.12 ('comp_avanz')",
   "language": "python",
   "name": "python3"
  },
  "language_info": {
   "codemirror_mode": {
    "name": "ipython",
    "version": 3
   },
   "file_extension": ".py",
   "mimetype": "text/x-python",
   "name": "python",
   "nbconvert_exporter": "python",
   "pygments_lexer": "ipython3",
   "version": "3.9.12"
  },
  "orig_nbformat": 4,
  "vscode": {
   "interpreter": {
    "hash": "add0685a1965005be9be0975996da26f37d5472cceef27ccf55a2f3f6645711f"
   }
  }
 },
 "nbformat": 4,
 "nbformat_minor": 2
}
