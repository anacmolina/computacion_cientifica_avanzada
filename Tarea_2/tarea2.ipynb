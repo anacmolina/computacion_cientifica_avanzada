{
 "cells": [
  {
   "cell_type": "markdown",
   "metadata": {},
   "source": [
    "## Tarea 2\n",
    "- Usar anomalies python package\n",
    "- Implementar multiprocessing para calcular las soluciones"
   ]
  },
  {
   "cell_type": "code",
   "execution_count": 35,
   "metadata": {},
   "outputs": [],
   "source": [
    "import numpy as np\n",
    "\n",
    "import multiprocessing as multiprocessing\n",
    "\n",
    "from anomalies import anomaly\n",
    "from vector_like import vectorlike_generator"
   ]
  },
  {
   "cell_type": "code",
   "execution_count": 36,
   "metadata": {},
   "outputs": [],
   "source": [
    "from operator import mul\n",
    "\n",
    "\n",
    "def compute_anomaly_free_set(data):\n",
    "    \n",
    "    l, k = vectorlike_generator(data[0], data[1])\n",
    "    \n",
    "    set = anomaly.free(l, k)\n",
    "    gcd = anomaly.free.gcd\n",
    "    set_simplified = anomaly.free.simplified\n",
    "\n",
    "    results = {\n",
    "        'l': l,\n",
    "        'k': k,\n",
    "        'set': set,\n",
    "        'gcd': gcd,\n",
    "        'set_simplified': set_simplified\n",
    "    }\n",
    "\n",
    "    return results"
   ]
  },
  {
   "cell_type": "code",
   "execution_count": 39,
   "metadata": {},
   "outputs": [],
   "source": [
    "with multiprocessing.Pool(5) as p:\n",
    "    info = p.map(compute_anomaly_free_set, [[6, 5], [6, 7]])"
   ]
  },
  {
   "cell_type": "code",
   "execution_count": 40,
   "metadata": {},
   "outputs": [
    {
     "data": {
      "text/plain": [
       "[{'l': array([ 3, -1]),\n",
       "  'k': array([-3,  2]),\n",
       "  'set': array([  60,  -60,  120, -120,  140, -140]),\n",
       "  'gcd': 20,\n",
       "  'set_simplified': array([ 3, -3,  6, -6,  7, -7])},\n",
       " {'l': array([-6, -1]),\n",
       "  'k': array([-2, -1]),\n",
       "  'set': array([  60,  -86, -145,  188,  241, -258]),\n",
       "  'gcd': 1,\n",
       "  'set_simplified': array([  60,  -86, -145,  188,  241, -258])}]"
      ]
     },
     "execution_count": 40,
     "metadata": {},
     "output_type": "execute_result"
    }
   ],
   "source": [
    "info"
   ]
  },
  {
   "cell_type": "code",
   "execution_count": null,
   "metadata": {},
   "outputs": [],
   "source": []
  }
 ],
 "metadata": {
  "kernelspec": {
   "display_name": "Python 3.9.12 ('comp_avanz')",
   "language": "python",
   "name": "python3"
  },
  "language_info": {
   "codemirror_mode": {
    "name": "ipython",
    "version": 3
   },
   "file_extension": ".py",
   "mimetype": "text/x-python",
   "name": "python",
   "nbconvert_exporter": "python",
   "pygments_lexer": "ipython3",
   "version": "3.9.12"
  },
  "orig_nbformat": 4,
  "vscode": {
   "interpreter": {
    "hash": "add0685a1965005be9be0975996da26f37d5472cceef27ccf55a2f3f6645711f"
   }
  }
 },
 "nbformat": 4,
 "nbformat_minor": 2
}
