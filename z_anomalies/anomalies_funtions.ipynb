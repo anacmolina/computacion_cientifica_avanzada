{
 "cells": [
  {
   "cell_type": "code",
   "execution_count": 3,
   "metadata": {},
   "outputs": [],
   "source": [
    "import warnings\n",
    "warnings.filterwarnings(\"ignore\")\n",
    "\n",
    "import numpy as np\n",
    "import dask as da"
   ]
  },
  {
   "cell_type": "code",
   "execution_count": 4,
   "metadata": {},
   "outputs": [],
   "source": [
    "def sorted_absval(x):\n",
    "        return np.array(sorted(x, key=abs, reverse=True))\n",
    "\n",
    "def generate_lk(n, lkmax, N):\n",
    "\n",
    "    assert(n>=5) \n",
    "\n",
    "    if n % 2 == 0:\n",
    "\n",
    "        m = int(n/2 - 1)\n",
    "        \n",
    "        lk = da.random.randint(-lkmax, lkmax+1, (N, m+m))\n",
    "        lk = lk.to_dask_dataframe().drop_duplicates().to_dask_array()\n",
    "        lk = lk.compute()\n",
    "\n",
    "        l1 = (lk[:, 0] == 0)\n",
    "        lk[:, 0][l1] = np.random.randint(1, lkmax+1, lk[:, 0][l1].shape)*(-1)**da.random.randint(0, 2, lk[:, 0][l1].shape)\n",
    "        \n",
    "        k1 = (lk[:, m] == 0)\n",
    "        lk[:, m][k1] = np.random.randint(1, lkmax+1, lk[:, 0][k1].shape)*(-1)**da.random.randint(0, 2, lk[:, 0][k1].shape)\n",
    "\n",
    "        lk = np.unique(lk, axis=0)\n",
    "        \n",
    "        return lk\n",
    "\n",
    "    if n % 2 != 0:\n",
    "\n",
    "        m = int((n-3)/2)\n",
    "        \n",
    "        lk = da.random.randint(-lkmax, lkmax+1, (N, m+m+1))\n",
    "        lk = lk.to_dask_dataframe().drop_duplicates().to_dask_array()\n",
    "        lk = lk.compute()\n",
    "\n",
    "        l1 = (lk[:, 0] == 0)\n",
    "        lk[:, 0][l1] = np.random.randint(1, lkmax+1, lk[:, 0][l1].shape)*(-1)**da.random.randint(0, 2, lk[:, 0][l1].shape)\n",
    "        \n",
    "        k1 = (lk[:, m] == 0)\n",
    "        lk[:, m][k1] = np.random.randint(1, lkmax+1, lk[:, 0][k1].shape)*(-1)**da.random.randint(0, 2, lk[:, 0][k1].shape)\n",
    "\n",
    "        lk = np.unique(lk, axis=0)\n",
    "        \n",
    "        return lk\n",
    "\n",
    "    else:\n",
    "        \n",
    "        raise RuntimeError(\"What is that input you gave me!\")    \n"
   ]
  },
  {
   "cell_type": "code",
   "execution_count": null,
   "metadata": {},
   "outputs": [],
   "source": [
    "class Anomalies:\n",
    "    \n",
    "    def __init__(self, n, lkmax):# -> None:\n",
    "        \n",
    "        self.n = n\n",
    "        self.lkmax = lkmax\n",
    "        #self.z = None\n",
    "        #self.gcd = None\n",
    "        #self.l = None\n",
    "        #self.k = None\n",
    "\n",
    "        pass  \n",
    "    \n",
    "    def linear_combination(self, x, y):\n",
    "\n",
    "        result = np.sum(x*(y**2))*x - np.sum((x**2)*y)*y\n",
    "\n",
    "        result = sorted_absval(result).astype(int)\n",
    "\n",
    "        if(result[0]<0):\n",
    "            result = result*(-1)\n",
    "\n",
    "        gcd = np.gcd.reduce(result)\n",
    "\n",
    "        if (gcd!=0):\n",
    "            result = result/gcd\n",
    "        else:\n",
    "            result = result\n",
    "\n",
    "        self.z = result.astype(int)\n",
    "        self.gcd = gcd.astype(int)"
   ]
  }
 ],
 "metadata": {
  "kernelspec": {
   "display_name": "Python 3.9.12 ('comp_avanz')",
   "language": "python",
   "name": "python3"
  },
  "language_info": {
   "codemirror_mode": {
    "name": "ipython",
    "version": 3
   },
   "file_extension": ".py",
   "mimetype": "text/x-python",
   "name": "python",
   "nbconvert_exporter": "python",
   "pygments_lexer": "ipython3",
   "version": "3.9.12"
  },
  "orig_nbformat": 4,
  "vscode": {
   "interpreter": {
    "hash": "add0685a1965005be9be0975996da26f37d5472cceef27ccf55a2f3f6645711f"
   }
  }
 },
 "nbformat": 4,
 "nbformat_minor": 2
}
